{
 "cells": [
  {
   "cell_type": "code",
   "execution_count": null,
   "id": "03cb6efa",
   "metadata": {},
   "outputs": [],
   "source": [
    "Homework/Project:\n",
    "\n",
    "Task: Annotate an Image with Shapes and Text\n",
    "\n",
    "Load an image (any of your choice).\n",
    "\n",
    "Draw the following on the image:\n",
    "\n",
    "A diagonal line from one corner to the opposite corner.\n",
    "\n",
    "A rectangle around a specific object in the image (you decide the coordinates).\n",
    "\n",
    "A circle highlighting an important area of the image.\n",
    "\n",
    "A text label for each shape describing what it is.\n",
    "\n",
    "Display the annotated image and save it as annotated_image.jpg.\n",
    "\n",
    "import cv2"
   ]
  },
  {
   "cell_type": "code",
   "execution_count": 11,
   "id": "d19d1d8a",
   "metadata": {},
   "outputs": [
    {
     "name": "stdout",
     "output_type": "stream",
     "text": [
      "499\n",
      "375\n"
     ]
    }
   ],
   "source": [
    "img = cv2.imread(\"cat.4002.jpg\", 1)\n",
    "w = img.shape[1]\n",
    "h = img.shape[0]\n",
    "print(h)\n",
    "print(w)\n",
    "\n",
    "\n",
    "cv2.line(img,(0,h),(w,0),(255,0,0),2 )\n",
    "# cv2.waitKey(0)\n",
    "# cv2.destroyAllWindows()\n",
    "\n",
    "cv2.rectangle(img, (50,100), (250,350), (0, 255, 0), 3)\n",
    "# cv2.waitKey(0)\n",
    "# cv2.destroyAllWindows()\n",
    "\n",
    "cv2.circle(img, (118, 178), 30, (255,255,255), 1)\n",
    "# cv2.waitKey(0)\n",
    "# cv2.destroyAllWindows()\n",
    "\n",
    "cv2.putText(img, \"Goorba\", (int(w/3), 20), cv2.FONT_HERSHEY_COMPLEX, 1, (255, 255, 0), 2)\n",
    "\n",
    "\n",
    "cv2.imwrite(\"annotated_image.png\", img)\n",
    "cv2.imshow(\"annotated_image\", img)\n",
    "cv2.waitKey(0)\n",
    "cv2.destroyAllWindows()\n",
    "\n"
   ]
  },
  {
   "cell_type": "code",
   "execution_count": null,
   "id": "5eb86cb5",
   "metadata": {},
   "outputs": [],
   "source": []
  }
 ],
 "metadata": {
  "kernelspec": {
   "display_name": "neural_network",
   "language": "python",
   "name": "neural_network"
  },
  "language_info": {
   "codemirror_mode": {
    "name": "ipython",
    "version": 3
   },
   "file_extension": ".py",
   "mimetype": "text/x-python",
   "name": "python",
   "nbconvert_exporter": "python",
   "pygments_lexer": "ipython3",
   "version": "3.12.3"
  }
 },
 "nbformat": 4,
 "nbformat_minor": 5
}
