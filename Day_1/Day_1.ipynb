{
 "cells": [
  {
   "cell_type": "markdown",
   "id": "ff55ac1b",
   "metadata": {},
   "source": [
    "Homework/Project:\n",
    "\n",
    "Task: Image Viewer and Saver\n",
    "Create a Python script that:\n",
    "\n",
    "Reads an image from a given file path.\n",
    "\n",
    "Displays the image in a window with the title \"Image Viewer.\"\n",
    "\n",
    "Waits for a key press:\n",
    "\n",
    "If the user presses \"s\", save the image with a new name (e.g., \"output.jpg\").\n",
    "\n",
    "If the user presses \"q\", quit without saving.\n",
    "\n",
    "Closes the window when done.\n",
    "\n",
    "Stretch Goal:\n",
    "\n",
    "Add functionality to resize the image before displaying it (use cv2.resize()).\n",
    "\n",
    "Allow the user to save the resized image.\n"
   ]
  },
  {
   "cell_type": "code",
   "execution_count": 6,
   "id": "bfcd367e",
   "metadata": {},
   "outputs": [],
   "source": [
    "import cv2 \n",
    "\n",
    "def resize(img, h=0, w=0):\n",
    "    return cv2.resize(img, (w, h))\n",
    "\n",
    "img = cv2.imread(\"cat.4002.jpg\", 1)\n",
    "\n",
    "user_input = input(\"\"\"\n",
    "do you want to resize?:\n",
    "1) yes\n",
    "2) no\n",
    "->\n",
    "\"\"\")\n",
    "if user_input == \"1\" :\n",
    "    h = int(input(\"Enter the h\\n->\"))\n",
    "    w = int(input(\"Enter the w\\n->\"))\n",
    "    img = resize(img, h, w)\n",
    "\n",
    "cv2.imshow(\"Image Viewer\", img)\n",
    "user_input = input(\"for save -> s\\nfor exit -> q\").lower()\n",
    "if user_input == \"s\":\n",
    "    cv2.imwrite(\"output.jpg\", img)\n",
    "    cv2.waitKey(0)\n",
    "    cv2.destroyAllWindows()\n",
    "elif user_input == \"q\":\n",
    "    cv2.waitKey(0)\n",
    "    cv2.destroyAllWindows()"
   ]
  },
  {
   "cell_type": "code",
   "execution_count": null,
   "id": "fdcf6b13",
   "metadata": {},
   "outputs": [],
   "source": []
  }
 ],
 "metadata": {
  "kernelspec": {
   "display_name": "neural_network",
   "language": "python",
   "name": "neural_network"
  },
  "language_info": {
   "codemirror_mode": {
    "name": "ipython",
    "version": 3
   },
   "file_extension": ".py",
   "mimetype": "text/x-python",
   "name": "python",
   "nbconvert_exporter": "python",
   "pygments_lexer": "ipython3",
   "version": "3.12.3"
  }
 },
 "nbformat": 4,
 "nbformat_minor": 5
}
