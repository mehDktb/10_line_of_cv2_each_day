{
 "cells": [
  {
   "cell_type": "code",
   "execution_count": 14,
   "id": "c4eaecec",
   "metadata": {},
   "outputs": [],
   "source": [
    "import cv2"
   ]
  },
  {
   "cell_type": "code",
   "execution_count": 15,
   "id": "5616697c",
   "metadata": {},
   "outputs": [
    {
     "name": "stdout",
     "output_type": "stream",
     "text": [
      "375\n",
      "499\n"
     ]
    }
   ],
   "source": [
    "img = cv2.imread(\"cat.4002.jpg\", 1)\n",
    "h = img.shape[1]\n",
    "w = img.shape[0]\n",
    "print(h)\n",
    "print(w)"
   ]
  },
  {
   "cell_type": "code",
   "execution_count": 6,
   "id": "854de1e6",
   "metadata": {},
   "outputs": [],
   "source": [
    "cv2.imshow(\"line\",cv2.line(img,(0,w),(h,0),2,2 ))\n",
    "cv2.waitKey(0)\n",
    "cv2.destroyAllWindows()"
   ]
  },
  {
   "cell_type": "code",
   "execution_count": 16,
   "id": "ed771aaa",
   "metadata": {},
   "outputs": [],
   "source": [
    "cv2.imshow(\"rectangle\",cv2.rectangle(img, (300,130), (450,230), (0, 255, 0), 3))\n",
    "cv2.waitKey(0)\n",
    "cv2.destroyAllWindows()"
   ]
  },
  {
   "cell_type": "code",
   "execution_count": 10,
   "id": "1b523317",
   "metadata": {},
   "outputs": [
    {
     "data": {
      "text/plain": [
       "array([[[ 99, 119, 124],\n",
       "        [ 95, 115, 120],\n",
       "        [ 93, 112, 117],\n",
       "        ...,\n",
       "        [ 12,  41, 108],\n",
       "        [  2,   0,   0],\n",
       "        [  2,   0,   0]],\n",
       "\n",
       "       [[ 99, 119, 124],\n",
       "        [ 96, 116, 121],\n",
       "        [ 95, 114, 119],\n",
       "        ...,\n",
       "        [ 10,  39, 106],\n",
       "        [  2,   0,   0],\n",
       "        [  2,   0,   0]],\n",
       "\n",
       "       [[ 98, 118, 123],\n",
       "        [ 97, 117, 122],\n",
       "        [ 97, 116, 121],\n",
       "        ...,\n",
       "        [  2,   0,   0],\n",
       "        [  2,   0,   0],\n",
       "        [  2,   0,   0]],\n",
       "\n",
       "       ...,\n",
       "\n",
       "       [[ 46,  78,  83],\n",
       "        [  2,   0,   0],\n",
       "        [  2,   0,   0],\n",
       "        ...,\n",
       "        [ 18,  42,  96],\n",
       "        [ 18,  42,  96],\n",
       "        [ 17,  41,  95]],\n",
       "\n",
       "       [[  2,   0,   0],\n",
       "        [  2,   0,   0],\n",
       "        [  2,   0,   0],\n",
       "        ...,\n",
       "        [ 20,  41,  96],\n",
       "        [ 20,  41,  96],\n",
       "        [ 19,  40,  95]],\n",
       "\n",
       "       [[  2,   0,   0],\n",
       "        [  2,   0,   0],\n",
       "        [  2,   0,   0],\n",
       "        ...,\n",
       "        [ 20,  41,  96],\n",
       "        [ 20,  41,  96],\n",
       "        [ 19,  40,  95]]], dtype=uint8)"
      ]
     },
     "execution_count": 10,
     "metadata": {},
     "output_type": "execute_result"
    }
   ],
   "source": [
    "cv2.rectangle(img, (100,30), (150,130), (0, 255, 0), 3)"
   ]
  },
  {
   "cell_type": "code",
   "execution_count": null,
   "id": "d1bba25c",
   "metadata": {},
   "outputs": [],
   "source": []
  }
 ],
 "metadata": {
  "kernelspec": {
   "display_name": "neural_network",
   "language": "python",
   "name": "neural_network"
  },
  "language_info": {
   "codemirror_mode": {
    "name": "ipython",
    "version": 3
   },
   "file_extension": ".py",
   "mimetype": "text/x-python",
   "name": "python",
   "nbconvert_exporter": "python",
   "pygments_lexer": "ipython3",
   "version": "3.12.3"
  }
 },
 "nbformat": 4,
 "nbformat_minor": 5
}
