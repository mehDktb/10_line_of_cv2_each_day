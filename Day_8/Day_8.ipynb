{
 "cells": [
  {
   "cell_type": "code",
   "execution_count": 19,
   "id": "9ed6d257",
   "metadata": {},
   "outputs": [
    {
     "data": {
      "text/plain": [
       "True"
      ]
     },
     "execution_count": 19,
     "metadata": {},
     "output_type": "execute_result"
    }
   ],
   "source": [
    "import cv2 \n",
    "import numpy as np\n",
    "from scipy.signal import convolve2d\n",
    "\n",
    "img = cv2.imread(\"photo_2020-09-06_19-58-18.jpg\", 1)\n",
    "\n",
    "cv2.imshow(\"original\", img)\n",
    "cv2.waitKey(0)\n",
    "cv2.destroyAllWindows()\n",
    "\n",
    "denoised = cv2.fastNlMeansDenoisingColored(img, None, 10, 10, 7, 21)\n",
    "\n",
    "\n",
    "cv2.imshow(\"denoised\", denoised)\n",
    "cv2.waitKey(0)\n",
    "cv2.destroyAllWindows()\n",
    "\n",
    "# min_val, max_val = np.min(img), np.max(image)\n",
    "normalized = cv2.normalize(denoised, None, 0, 255, cv2.NORM_MINMAX)\n",
    "\n",
    "cv2.imshow(\"normalized\", normalized)\n",
    "cv2.waitKey(0)\n",
    "cv2.destroyAllWindows()\n",
    "\n",
    "# psf = np.ones((5, 5)) / 25\n",
    "\n",
    "# Perform Richardson-Lucy deconvolution\n",
    "# def richardson_lucy(image, psf, iterations=10):\n",
    "#     image = image.astype('float')\n",
    "#     estimate = np.full(image.shape, 0.5)\n",
    "#     for _ in range(iterations):\n",
    "#         relative_blur = convolve2d(estimate, psf, 'same')\n",
    "#         relative_blur = np.maximum(relative_blur, 1e-5)  # Avoid division by zero\n",
    "#         estimate *= convolve2d(image / relative_blur, psf[::-1, ::-1], 'same')\n",
    "#     return estimate\n",
    "\n",
    "\n",
    "# b, g, r = cv2.split(normalized)\n",
    "\n",
    "# # Apply Richardson-Lucy deconvolution to each channel\n",
    "# deblurred_b = richardson_lucy(b, psf)\n",
    "# deblurred_g = richardson_lucy(g, psf)\n",
    "# deblurred_r = richardson_lucy(r, psf)\n",
    "\n",
    "# # Merge the channels back\n",
    "# deblurred_image = cv2.merge((deblurred_b.astype('uint8'), \n",
    "#                              deblurred_g.astype('uint8'), \n",
    "#                              deblurred_r.astype('uint8')))\n",
    "\n",
    "# cv2.imshow(\"sharpened\", deblurred_image)\n",
    "# cv2.imshow(\"normalized\", normalized)\n",
    "# cv2.waitKey(0)\n",
    "# cv2.destroyAllWindows()\n",
    "\n",
    "cv2.imwrite(\"moso_reveal.png\", normalized)"
   ]
  },
  {
   "cell_type": "code",
   "execution_count": null,
   "id": "d0a1e2c5",
   "metadata": {},
   "outputs": [],
   "source": []
  }
 ],
 "metadata": {
  "kernelspec": {
   "display_name": "neural_network",
   "language": "python",
   "name": "neural_network"
  },
  "language_info": {
   "codemirror_mode": {
    "name": "ipython",
    "version": 3
   },
   "file_extension": ".py",
   "mimetype": "text/x-python",
   "name": "python",
   "nbconvert_exporter": "python",
   "pygments_lexer": "ipython3",
   "version": "3.12.3"
  }
 },
 "nbformat": 4,
 "nbformat_minor": 5
}
