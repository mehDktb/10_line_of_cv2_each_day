{
 "cells": [
  {
   "cell_type": "markdown",
   "id": "272c22bd",
   "metadata": {},
   "source": [
    "Homework/Project:\n",
    "\n",
    "Task: Noise Reduction in an Image\n",
    "\n",
    "Load a noisy image (you can add noise manually if needed).\n",
    "\n",
    "Apply the following smoothing techniques:\n",
    "\n",
    "Averaging\n",
    "\n",
    "Gaussian blur\n",
    "\n",
    "Median blur\n",
    "\n",
    "Bilateral filter\n",
    "\n",
    "Compare and save the results of each technique as separate images (e.g., average_blur.png, gaussian_blur.png)."
   ]
  },
  {
   "cell_type": "code",
   "execution_count": 32,
   "id": "ba923ef6",
   "metadata": {},
   "outputs": [],
   "source": [
    "import cv2\n",
    "import numpy as np"
   ]
  },
  {
   "cell_type": "code",
   "execution_count": 33,
   "id": "08010001",
   "metadata": {},
   "outputs": [],
   "source": [
    "img = cv2.imread(\"../cat.4002.jpg\", 1)"
   ]
  },
  {
   "cell_type": "code",
   "execution_count": 34,
   "id": "9747a714",
   "metadata": {},
   "outputs": [],
   "source": [
    "img_float = img.astype(np.float32)/255"
   ]
  },
  {
   "cell_type": "code",
   "execution_count": 35,
   "id": "0055ff7f",
   "metadata": {},
   "outputs": [],
   "source": [
    "cv2.imshow(\"float\", img_float)\n",
    "cv2.waitKey(0)\n",
    "cv2.destroyAllWindows()"
   ]
  },
  {
   "cell_type": "markdown",
   "id": "e5c6c557",
   "metadata": {},
   "source": [
    "<h1>\n",
    "    Adding gaussian-noise to image "
   ]
  },
  {
   "cell_type": "code",
   "execution_count": 36,
   "id": "1300bfb5",
   "metadata": {},
   "outputs": [],
   "source": [
    "mean = 0\n",
    "std = 0.1\n",
    "gaussian_noise = np.random.normal(mean, std, img_float.shape)"
   ]
  },
  {
   "cell_type": "code",
   "execution_count": 37,
   "id": "8a4e608e",
   "metadata": {},
   "outputs": [],
   "source": [
    "noisy_img_float = img_float + gaussian_noise"
   ]
  },
  {
   "cell_type": "code",
   "execution_count": 38,
   "id": "c754e2d2",
   "metadata": {},
   "outputs": [],
   "source": [
    "cv2.imshow(\"gaussan_noisy_img\", noisy_img_float)\n",
    "cv2.waitKey(0)\n",
    "cv2.destroyAllWindows()"
   ]
  },
  {
   "cell_type": "code",
   "execution_count": 39,
   "id": "2825ba4b",
   "metadata": {},
   "outputs": [],
   "source": [
    "noisy_img = np.clip(noisy_img_float, 0, 1)\n",
    "noisy_img_uint8 = np.clip((noisy_img_float * 255), 0, 255).astype(np.uint8)"
   ]
  },
  {
   "cell_type": "code",
   "execution_count": 40,
   "id": "a3d34277",
   "metadata": {},
   "outputs": [],
   "source": [
    "cv2.imshow(\"gaussan_noisy_img\", noisy_img_uint8)\n",
    "cv2.waitKey(0)\n",
    "cv2.destroyAllWindows()"
   ]
  },
  {
   "cell_type": "code",
   "execution_count": 41,
   "id": "b6b6e6c3",
   "metadata": {},
   "outputs": [
    {
     "data": {
      "text/plain": [
       "True"
      ]
     },
     "execution_count": 41,
     "metadata": {},
     "output_type": "execute_result"
    }
   ],
   "source": [
    "cv2.imwrite('noisy_image_gaussian.jpg', noisy_img_uint8)"
   ]
  },
  {
   "cell_type": "markdown",
   "id": "401405e8",
   "metadata": {},
   "source": [
    "<h1>\n",
    "    Adding salt/pepper_noise to image"
   ]
  },
  {
   "cell_type": "code",
   "execution_count": 42,
   "id": "e7feba86",
   "metadata": {},
   "outputs": [],
   "source": [
    "prob = 0.02\n",
    "rnd = np.random.rand(*img.shape[:2])"
   ]
  },
  {
   "cell_type": "code",
   "execution_count": 43,
   "id": "128c7f80",
   "metadata": {},
   "outputs": [],
   "source": [
    "salt = (rnd < prob/2)\n",
    "pepper = (rnd > 1-prob/2)"
   ]
  },
  {
   "cell_type": "code",
   "execution_count": 44,
   "id": "de3d7427",
   "metadata": {},
   "outputs": [],
   "source": [
    "ps_noisy_img = np.copy(img)"
   ]
  },
  {
   "cell_type": "code",
   "execution_count": 45,
   "id": "2156b6ff",
   "metadata": {},
   "outputs": [],
   "source": [
    "ps_noisy_img[salt] = [255,255,255]\n",
    "ps_noisy_img[pepper] = [0,0,0]"
   ]
  },
  {
   "cell_type": "code",
   "execution_count": 46,
   "id": "5c59b059",
   "metadata": {},
   "outputs": [],
   "source": [
    "cv2.imshow(\"noisy image pepper/salt\", ps_noisy_img)\n",
    "cv2.waitKey(0)\n",
    "cv2.destroyAllWindows()"
   ]
  },
  {
   "cell_type": "code",
   "execution_count": 47,
   "id": "959d26a9",
   "metadata": {},
   "outputs": [
    {
     "data": {
      "text/plain": [
       "True"
      ]
     },
     "execution_count": 47,
     "metadata": {},
     "output_type": "execute_result"
    }
   ],
   "source": [
    "cv2.imwrite('pepper&salt_image_gaussian.jpg', ps_noisy_img)"
   ]
  },
  {
   "cell_type": "code",
   "execution_count": null,
   "id": "557e12b1",
   "metadata": {},
   "outputs": [],
   "source": []
  },
  {
   "cell_type": "markdown",
   "id": "e2bb9da4",
   "metadata": {},
   "source": [
    "<h1>\n",
    "    bluring"
   ]
  },
  {
   "cell_type": "code",
   "execution_count": 48,
   "id": "5ee697ec",
   "metadata": {},
   "outputs": [
    {
     "data": {
      "text/plain": [
       "True"
      ]
     },
     "execution_count": 48,
     "metadata": {},
     "output_type": "execute_result"
    }
   ],
   "source": [
    "blur = cv2.blur(ps_noisy_img, [5,5])\n",
    "cv2.imshow('blured image', blur)\n",
    "cv2.waitKey(0)\n",
    "cv2.destroyAllWindows()\n",
    "cv2.imwrite(\"simple_blur_ps.png\", blur)"
   ]
  },
  {
   "cell_type": "code",
   "execution_count": 49,
   "id": "14a4b176",
   "metadata": {},
   "outputs": [
    {
     "data": {
      "text/plain": [
       "True"
      ]
     },
     "execution_count": 49,
     "metadata": {},
     "output_type": "execute_result"
    }
   ],
   "source": [
    "blur_on_gaussain = cv2.blur(noisy_img_uint8, [5,5])\n",
    "cv2.imshow('blured image', blur_on_gaussain)\n",
    "cv2.waitKey(0)\n",
    "cv2.destroyAllWindows()\n",
    "cv2.imwrite(\"simple_blur_gaussian.png\", blur_on_gaussain)"
   ]
  },
  {
   "cell_type": "markdown",
   "id": "f779e88b",
   "metadata": {},
   "source": [
    "<h1>\n",
    "    gaussian blur"
   ]
  },
  {
   "cell_type": "code",
   "execution_count": 50,
   "id": "04559cda",
   "metadata": {},
   "outputs": [
    {
     "data": {
      "text/plain": [
       "True"
      ]
     },
     "execution_count": 50,
     "metadata": {},
     "output_type": "execute_result"
    }
   ],
   "source": [
    "g_blur = cv2.GaussianBlur(ps_noisy_img, [5,5], 0)\n",
    "cv2.imshow('blured image', g_blur)\n",
    "cv2.waitKey(0)\n",
    "cv2.destroyAllWindows()\n",
    "cv2.imwrite(\"gaussian_blur_ps.png\", g_blur)"
   ]
  },
  {
   "cell_type": "code",
   "execution_count": 51,
   "id": "cd53a49e",
   "metadata": {},
   "outputs": [
    {
     "data": {
      "text/plain": [
       "True"
      ]
     },
     "execution_count": 51,
     "metadata": {},
     "output_type": "execute_result"
    }
   ],
   "source": [
    "g_blur_on_gaussian = cv2.GaussianBlur(noisy_img_uint8, [5,5], 0)\n",
    "cv2.imshow('blured image', g_blur_on_gaussian)\n",
    "cv2.waitKey(0)\n",
    "cv2.destroyAllWindows()\n",
    "cv2.imwrite(\"gaussian_blur_gaussain.png\", g_blur_on_gaussian)"
   ]
  },
  {
   "cell_type": "markdown",
   "id": "dd7db8b3",
   "metadata": {},
   "source": [
    "<h1>\n",
    "    median blur"
   ]
  },
  {
   "cell_type": "code",
   "execution_count": 52,
   "id": "fb9b40ad",
   "metadata": {},
   "outputs": [
    {
     "data": {
      "text/plain": [
       "True"
      ]
     },
     "execution_count": 52,
     "metadata": {},
     "output_type": "execute_result"
    }
   ],
   "source": [
    "m_blur = cv2.medianBlur(ps_noisy_img, 5)\n",
    "cv2.imshow('blured image', m_blur)\n",
    "cv2.waitKey(0)\n",
    "cv2.destroyAllWindows()\n",
    "cv2.imwrite(\"median_blur_ps.png\", m_blur)"
   ]
  },
  {
   "cell_type": "code",
   "execution_count": 53,
   "id": "78f316c4",
   "metadata": {},
   "outputs": [
    {
     "data": {
      "text/plain": [
       "True"
      ]
     },
     "execution_count": 53,
     "metadata": {},
     "output_type": "execute_result"
    }
   ],
   "source": [
    "m_blur_on_gaussian = cv2.medianBlur(noisy_img_uint8, 5)\n",
    "cv2.imshow('blured image', m_blur_on_gaussian)\n",
    "cv2.waitKey(0)\n",
    "cv2.destroyAllWindows()\n",
    "cv2.imwrite(\"median_blur_gaussian.png\", m_blur_on_gaussian)"
   ]
  },
  {
   "cell_type": "markdown",
   "id": "9f0bebfa",
   "metadata": {},
   "source": [
    "<h1>\n",
    "    Bilateral Filtering"
   ]
  },
  {
   "cell_type": "code",
   "execution_count": 54,
   "id": "ed73d37e",
   "metadata": {},
   "outputs": [
    {
     "data": {
      "text/plain": [
       "True"
      ]
     },
     "execution_count": 54,
     "metadata": {},
     "output_type": "execute_result"
    }
   ],
   "source": [
    "bil_blur = cv2.bilateralFilter(ps_noisy_img, 9, 75, 75)\n",
    "cv2.imshow('blured image', bil_blur)\n",
    "cv2.waitKey(0)\n",
    "cv2.destroyAllWindows()\n",
    "cv2.imwrite(\"bilateral_blur_ps.png\", bil_blur)"
   ]
  },
  {
   "cell_type": "code",
   "execution_count": 55,
   "id": "cfe731cb",
   "metadata": {},
   "outputs": [
    {
     "data": {
      "text/plain": [
       "True"
      ]
     },
     "execution_count": 55,
     "metadata": {},
     "output_type": "execute_result"
    }
   ],
   "source": [
    "bil_blur = cv2.bilateralFilter(ps_noisy_img, 9, 75, 75)\n",
    "cv2.imshow('blured image', bil_blur)\n",
    "cv2.waitKey(0)\n",
    "cv2.destroyAllWindows()\n",
    "cv2.imwrite(\"bilateral_blur_ps.png\", bil_blur)"
   ]
  },
  {
   "cell_type": "code",
   "execution_count": null,
   "id": "e31ac22f",
   "metadata": {},
   "outputs": [],
   "source": []
  }
 ],
 "metadata": {
  "kernelspec": {
   "display_name": "neural_network",
   "language": "python",
   "name": "neural_network"
  },
  "language_info": {
   "codemirror_mode": {
    "name": "ipython",
    "version": 3
   },
   "file_extension": ".py",
   "mimetype": "text/x-python",
   "name": "python",
   "nbconvert_exporter": "python",
   "pygments_lexer": "ipython3",
   "version": "3.12.3"
  }
 },
 "nbformat": 4,
 "nbformat_minor": 5
}
