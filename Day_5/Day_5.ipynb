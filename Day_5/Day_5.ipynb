{
 "cells": [
  {
   "cell_type": "markdown",
   "id": "a21be066",
   "metadata": {},
   "source": [
    "Homework/Project:\n",
    "\n",
    "Task: Edge Detection on an Image\n",
    "\n",
    "Load a grayscale image of your choice.\n",
    "\n",
    "Apply and display the following:\n",
    "\n",
    "Sobel edge detection in x and y directions.\n",
    "\n",
    "Combined Sobel edges (magnitude).\n",
    "\n",
    "Laplacian edge detection.\n",
    "\n",
    "Canny edge detection with adjustable thresholds.\n",
    "\n",
    "Save the results of each edge detection method as separate images (e.g., sobel_x.png, laplacian.png, \n",
    "\n",
    "canny_edges.png)."
   ]
  },
  {
   "cell_type": "code",
   "execution_count": 1,
   "id": "c83dd97b",
   "metadata": {},
   "outputs": [],
   "source": [
    "import cv2"
   ]
  },
  {
   "cell_type": "code",
   "execution_count": 2,
   "id": "46cf7bf1",
   "metadata": {},
   "outputs": [],
   "source": [
    "img = cv2.imread(\"cat.4002.jpg\", 0)"
   ]
  },
  {
   "cell_type": "code",
   "execution_count": 3,
   "id": "333225a1",
   "metadata": {},
   "outputs": [],
   "source": [
    "sobel_x = cv2.Sobel(img, cv2.CV_64F, 1, 0, ksize=3)\n",
    "sobel_y = cv2.Sobel(img, cv2.CV_64F, 0, 1, ksize=3)\n",
    "sobel_combined = cv2.magnitude(sobel_x, sobel_y)\n",
    "sobel_combined = cv2.normalize(sobel_combined, None, 0, 255, cv2.NORM_MINMAX, dtype=cv2.CV_8U)"
   ]
  },
  {
   "cell_type": "code",
   "execution_count": 4,
   "id": "acabd0cc",
   "metadata": {},
   "outputs": [],
   "source": [
    "cv2.imshow(\"sobel_y\", sobel_y)\n",
    "cv2.imshow(\"sobel_x\", sobel_x)\n",
    "cv2.imshow(\"sobel_combined\", sobel_combined)\n",
    "\n",
    "cv2.waitKey(0)\n",
    "cv2.destroyAllWindows()"
   ]
  },
  {
   "cell_type": "code",
   "execution_count": 5,
   "id": "a78d77ab",
   "metadata": {},
   "outputs": [],
   "source": [
    "scharr_x = cv2.Scharr(img, cv2.CV_64F, 1, 0)\n",
    "scharr_y = cv2.Scharr(img, cv2.CV_64F, 0, 1)\n",
    "scharr_combined = cv2.magnitude(scharr_x, scharr_y)\n",
    "scharr_combined = cv2.normalize(scharr_combined, None, 0, 255, cv2.NORM_MINMAX, dtype=cv2.CV_8U)"
   ]
  },
  {
   "cell_type": "code",
   "execution_count": 6,
   "id": "d5d2d0c3",
   "metadata": {},
   "outputs": [],
   "source": [
    "cv2.imshow(\"scharr_y\", scharr_y)\n",
    "cv2.imshow(\"scharr_x\", scharr_x)\n",
    "cv2.imshow(\"scharr_combined\", scharr_combined)\n",
    "\n",
    "cv2.waitKey(0)\n",
    "cv2.destroyAllWindows()"
   ]
  },
  {
   "cell_type": "code",
   "execution_count": 7,
   "id": "831fc8a7",
   "metadata": {},
   "outputs": [],
   "source": [
    "laplacian = cv2.Laplacian(img, cv2.CV_64F)"
   ]
  },
  {
   "cell_type": "code",
   "execution_count": 8,
   "id": "def8be0d",
   "metadata": {},
   "outputs": [],
   "source": [
    "cv2.imshow(\"laplacian\", laplacian)\n",
    "cv2.waitKey(0)\n",
    "cv2.destroyAllWindows()"
   ]
  },
  {
   "cell_type": "code",
   "execution_count": 9,
   "id": "015416e8",
   "metadata": {},
   "outputs": [],
   "source": [
    "canny = cv2.Canny(img, 40, 100, apertureSize=3, L2gradient=True)\n"
   ]
  },
  {
   "cell_type": "code",
   "execution_count": 10,
   "id": "371fbb56",
   "metadata": {},
   "outputs": [],
   "source": [
    "cv2.imshow(\"canny\", canny)\n",
    "cv2.waitKey(0)\n",
    "cv2.destroyAllWindows()"
   ]
  },
  {
   "cell_type": "code",
   "execution_count": 11,
   "id": "05897323",
   "metadata": {},
   "outputs": [],
   "source": [
    "cv2.imshow(\"sobel_y\", sobel_y)\n",
    "cv2.imshow(\"sobel_x\", sobel_x)\n",
    "cv2.imshow(\"sobel_combined\", sobel_combined)\n",
    "cv2.imshow(\"scharr_y\", scharr_y)\n",
    "cv2.imshow(\"scharr_x\", scharr_x)\n",
    "cv2.imshow(\"scharr_combined\", scharr_combined)\n",
    "cv2.imshow(\"laplacian\", laplacian)\n",
    "cv2.imshow(\"canny\", canny)\n",
    "cv2.waitKey(0)\n",
    "cv2.destroyAllWindows()"
   ]
  },
  {
   "cell_type": "code",
   "execution_count": null,
   "id": "42564736",
   "metadata": {},
   "outputs": [],
   "source": []
  }
 ],
 "metadata": {
  "kernelspec": {
   "display_name": "neural_network",
   "language": "python",
   "name": "neural_network"
  },
  "language_info": {
   "codemirror_mode": {
    "name": "ipython",
    "version": 3
   },
   "file_extension": ".py",
   "mimetype": "text/x-python",
   "name": "python",
   "nbconvert_exporter": "python",
   "pygments_lexer": "ipython3",
   "version": "3.12.3"
  }
 },
 "nbformat": 4,
 "nbformat_minor": 5
}
