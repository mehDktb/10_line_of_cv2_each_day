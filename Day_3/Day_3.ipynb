{
 "cells": [
  {
   "cell_type": "markdown",
   "id": "311e2792",
   "metadata": {},
   "source": [
    "Homework/Project:\n",
    "    \n",
    "Task: Image Segmentation using Thresholding\n",
    "\n",
    "Load a grayscale image.\n",
    "\n",
    "Apply and display the following:\n",
    "    \n",
    "Simple binary thresholding.\n",
    "\n",
    "Inverse binary thresholding.\n",
    "\n",
    "Adaptive mean thresholding.\n",
    "\n",
    "Adaptive Gaussian thresholding.\n",
    "\n",
    "Save the results of each thresholding type as separate files (e.g., binary.png, adaptive_mean.png).\n"
   ]
  },
  {
   "cell_type": "code",
   "execution_count": 8,
   "id": "d8d6a36a",
   "metadata": {},
   "outputs": [],
   "source": [
    "import cv2Homework/Project:\n",
    "Task: Image Segmentation using Thresholding\n",
    "Load a grayscale image.\n",
    "Apply and display the following:\n",
    "Simple binary thresholding.\n",
    "Inverse binary thresholding.\n",
    "Adaptive mean thresholding.\n",
    "Adaptive Gaussian thresholding.\n",
    "Save the results of each thresholding type as separate files (e.g., binary.png, adaptive_mean.png).\n"
   ]
  },
  {
   "cell_type": "code",
   "execution_count": 11,
   "id": "fd8db989",
   "metadata": {},
   "outputs": [],
   "source": [
    "img = cv2.imread(\"cat.4002.jpg\", 0)\n",
    "cv2.imshow(\"img\",img)\n",
    "cv2.waitKey(0)\n",
    "cv2.destroyAllWindows()"
   ]
  },
  {
   "cell_type": "code",
   "execution_count": 14,
   "id": "7c2fbff8",
   "metadata": {},
   "outputs": [],
   "source": [
    "_, thres_simple_binary = cv2.threshold(img, 127, 255, cv2.THRESH_BINARY)\n",
    "cv2.imshow(\"simple_binary\",thres_simple_binary)\n",
    "cv2.waitKey(0)\n",
    "cv2.destroyAllWindows()"
   ]
  },
  {
   "cell_type": "code",
   "execution_count": 13,
   "id": "a596dd0a",
   "metadata": {},
   "outputs": [],
   "source": [
    "_, thres_inv_binary = cv2.threshold(img, 127, 255, cv2.THRESH_BINARY_INV)\n",
    "cv2.imshow(\"inverse_binary\",thres_inv_binary)\n",
    "cv2.waitKey(0)\n",
    "cv2.destroyAllWindows()"
   ]
  },
  {
   "cell_type": "code",
   "execution_count": 32,
   "id": "74fe506e",
   "metadata": {},
   "outputs": [],
   "source": [
    "adaptive_mean = cv2.adaptiveThreshold(img, 255, cv2.ADAPTIVE_THRESH_MEAN_C, cv2.THRESH_BINARY, 11, 2)\n",
    "cv2.imshow(\"adaptive_mean\",adaptive_mean)\n",
    "cv2.waitKey(0)\n",
    "cv2.destroyAllWindows()"
   ]
  },
  {
   "cell_type": "code",
   "execution_count": 35,
   "id": "a5f48533",
   "metadata": {},
   "outputs": [],
   "source": [
    "adaptive_gaussian = cv2.adaptiveThreshold(img, 255, cv2.ADAPTIVE_THRESH_GAUSSIAN_C, cv2.THRESH_BINARY, 11, 2)\n",
    "cv2.imshow(\"adaptive_gaussian\",adaptive_gaussian)\n",
    "cv2.waitKey(0)\n",
    "cv2.destroyAllWindows()"
   ]
  },
  {
   "cell_type": "code",
   "execution_count": null,
   "id": "a77a5cbc",
   "metadata": {},
   "outputs": [],
   "source": [
    "cv2.imwrite(\"simple_binary.png\", thres_simple_binary)\n",
    "cv2.imwrite(\"simple_binary.png\", thres_inv_binary)\n",
    "cv2.imwrite(\"simple_binary.png\", thres_inv_binary)\n",
    "cv2.imwrite(\"simple_binary.png\", thres_inv_binary)"
   ]
  }
 ],
 "metadata": {
  "kernelspec": {
   "display_name": "neural_network",
   "language": "python",
   "name": "neural_network"
  },
  "language_info": {
   "codemirror_mode": {
    "name": "ipython",
    "version": 3
   },
   "file_extension": ".py",
   "mimetype": "text/x-python",
   "name": "python",
   "nbconvert_exporter": "python",
   "pygments_lexer": "ipython3",
   "version": "3.12.3"
  }
 },
 "nbformat": 4,
 "nbformat_minor": 5
}
