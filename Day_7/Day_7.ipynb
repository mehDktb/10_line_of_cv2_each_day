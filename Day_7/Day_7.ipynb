{
 "cells": [
  {
   "cell_type": "code",
   "execution_count": 48,
   "id": "855e4366",
   "metadata": {},
   "outputs": [],
   "source": [
    "import cv2 \n",
    "import matplotlib.pyplot as plt\n",
    "import numpy as np"
   ]
  },
  {
   "cell_type": "code",
   "execution_count": 49,
   "id": "a4992666",
   "metadata": {},
   "outputs": [],
   "source": [
    "img = cv2.imread(\"noisy_image_gaussian.jpg\", 1)\n",
    "gray = cv2.cvtColor(img, cv2.COLOR_BGR2GRAY)"
   ]
  },
  {
   "cell_type": "code",
   "execution_count": 50,
   "id": "e894af3d",
   "metadata": {},
   "outputs": [],
   "source": [
    "float_img = np.float32(gray)"
   ]
  },
  {
   "cell_type": "code",
   "execution_count": 51,
   "id": "c1a00722",
   "metadata": {},
   "outputs": [],
   "source": [
    "dst = cv2.cornerHarris(float_img, 2, 3, 0.04)\n",
    "dst = cv2.dilate(dst, None)\n",
    "img[dst > 0.01*dst.max()] = [0,0,255]"
   ]
  },
  {
   "cell_type": "code",
   "execution_count": 53,
   "id": "5307ed95",
   "metadata": {},
   "outputs": [],
   "source": [
    "cv2.imshow(\"haris_corner\", img)\n",
    "cv2.imwrite(\"haris_corner.png\", img)\n",
    "cv2.waitKey(0)\n",
    "cv2.destroyAllWindows()"
   ]
  },
  {
   "cell_type": "code",
   "execution_count": 54,
   "id": "1e715a00",
   "metadata": {},
   "outputs": [],
   "source": [
    "img = cv2.imread(\"noisy_image_gaussian.jpg\", 1)\n",
    "gray = cv2.cvtColor(img, cv2.COLOR_BGR2GRAY)"
   ]
  },
  {
   "cell_type": "code",
   "execution_count": 55,
   "id": "cd853adb",
   "metadata": {},
   "outputs": [],
   "source": [
    "orb = cv2.ORB_create()\n",
    "\n",
    "keypoints, descriptors = orb.detectAndCompute(gray, None)\n",
    "img_with_keypoints = cv2.drawKeypoints(img, keypoints, None, color = (0,255,0), flags=0)"
   ]
  },
  {
   "cell_type": "code",
   "execution_count": 56,
   "id": "d2a5d08e",
   "metadata": {},
   "outputs": [],
   "source": [
    "cv2.imshow(\"orb_corner\", img_with_keypoints)\n",
    "cv2.imwrite(\"orb_corner.png\", img_with_keypoints)\n",
    "cv2.waitKey(0)\n",
    "cv2.destroyAllWindows()"
   ]
  },
  {
   "cell_type": "code",
   "execution_count": null,
   "id": "5acb012c",
   "metadata": {},
   "outputs": [],
   "source": []
  }
 ],
 "metadata": {
  "kernelspec": {
   "display_name": "neural_network",
   "language": "python",
   "name": "neural_network"
  },
  "language_info": {
   "codemirror_mode": {
    "name": "ipython",
    "version": 3
   },
   "file_extension": ".py",
   "mimetype": "text/x-python",
   "name": "python",
   "nbconvert_exporter": "python",
   "pygments_lexer": "ipython3",
   "version": "3.12.3"
  }
 },
 "nbformat": 4,
 "nbformat_minor": 5
}
